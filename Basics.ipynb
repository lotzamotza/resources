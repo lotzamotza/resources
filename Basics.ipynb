{
 "cells": [
  {
   "cell_type": "code",
   "execution_count": null,
   "metadata": {},
   "outputs": [],
   "source": [
    "import pandas as pd\n",
    "\n",
    "mydataset = {\n",
    "    'cars' : ['Volvo', 'BMW', 'Ford'],\n",
    "    'passings' : [3, 7, 2]\n",
    "}\n",
    "\n",
    "cars_db = pd.DataFrame(mydataset)\n",
    "print(cars_db)"
   ]
  },
  {
   "cell_type": "markdown",
   "metadata": {},
   "source": [
    "### What is a Series?"
   ]
  },
  {
   "cell_type": "code",
   "execution_count": null,
   "metadata": {},
   "outputs": [],
   "source": [
    "# a series is a column\n",
    "\n",
    "a = [1, 7, 2]\n",
    "\n",
    "myvar = pd.Series(a)\n",
    "print(myvar)\n",
    "\n",
    "# this creates a series from the list 'a' and assigning it to 'myvar'ArithmeticError"
   ]
  },
  {
   "cell_type": "markdown",
   "metadata": {},
   "source": [
    "### Labels"
   ]
  },
  {
   "cell_type": "code",
   "execution_count": null,
   "metadata": {},
   "outputs": [],
   "source": [
    "# if nothing is specified, the values are labeled with their index number. this can be used to \n",
    "# access a specific value\n",
    "\n",
    "#print(myvar[0])\n",
    "# this returns the first value in the series\n",
    "\n",
    "#CREATE LABELS\n",
    "\n",
    "a = [1, 7, 2]\n",
    "myvar = pd.Series(a, index = ['x', 'y', 'z'])\n",
    "# this labels the indexes as x, y, and z\n",
    "print(myvar)\n",
    "\n",
    "# return the value of new index 'y'\n",
    "print(myvar['y'])"
   ]
  },
  {
   "cell_type": "markdown",
   "metadata": {},
   "source": [
    "### Key/Value Objects as a Series"
   ]
  },
  {
   "cell_type": "code",
   "execution_count": null,
   "metadata": {},
   "outputs": [],
   "source": [
    "#create a series from a dictionary\n",
    "calories = {'day1':420, 'day2':380, 'day3':390}\n",
    "\n",
    "myvar = pd.Series(calories)\n",
    "\n",
    "print(myvar)\n",
    "# the 'keys' of the dictionary become the labels automatically\n",
    "\n",
    "# to specify only some items in the dict. use the index argument and specify only the items you\n",
    "# want to include in the series\n",
    "myvar2 = pd.Series(calories, index = ['day1', 'day2'])\n",
    "print(myvar2)"
   ]
  },
  {
   "cell_type": "markdown",
   "metadata": {},
   "source": [
    "### DataFrames"
   ]
  },
  {
   "cell_type": "code",
   "execution_count": null,
   "metadata": {},
   "outputs": [],
   "source": [
    "# multidimensional tables in Pandas are called DataFrames\n",
    "\n",
    "# create a dataframe from two series\n",
    "data = {\n",
    "    'calories' : [420, 380, 390],\n",
    "    'duration' : [50, 40, 45]\n",
    "}\n",
    "#load data dictionary into a DataFrame object\n",
    "calories_df = pd.DataFrame(data)\n",
    "print(calories_df)"
   ]
  },
  {
   "cell_type": "markdown",
   "metadata": {},
   "source": [
    "### Locate Row"
   ]
  },
  {
   "cell_type": "code",
   "execution_count": null,
   "metadata": {},
   "outputs": [],
   "source": [
    "# pandas uses the 'loc' attribute to return one or more specified rows from a dataframe\n",
    "# refer to the row index\n",
    "print(calories_df.loc[0])\n",
    "\n",
    "#use a LIST of INDEXES, return row 0 and 1\n",
    "print(calories_df.loc[[0,1]])"
   ]
  },
  {
   "cell_type": "markdown",
   "metadata": {},
   "source": [
    "### Named Indexes"
   ]
  },
  {
   "cell_type": "code",
   "execution_count": null,
   "metadata": {},
   "outputs": [],
   "source": [
    "# with the index argument, you can name your own indexes\n",
    "# add a list of names to give each row a name\n",
    "data = {\n",
    "    'calories' : [420, 380, 390],\n",
    "    'duration' : [50, 40, 45]\n",
    "}\n",
    "calories_df = pd.DataFrame(data, index = ['day1', 'day2', 'day3'])\n",
    "print(calories_df)"
   ]
  },
  {
   "cell_type": "markdown",
   "metadata": {},
   "source": [
    "### Locate Named Indexes"
   ]
  },
  {
   "cell_type": "code",
   "execution_count": null,
   "metadata": {},
   "outputs": [],
   "source": [
    "# use the named index in the loc attribute to return the specified rows \n",
    "# return 'day2'\n",
    "print(calories_df.loc['day2'])"
   ]
  },
  {
   "cell_type": "markdown",
   "metadata": {},
   "source": [
    "### Load Files Into DataFrame"
   ]
  },
  {
   "cell_type": "code",
   "execution_count": null,
   "metadata": {},
   "outputs": [],
   "source": [
    "# if your data sets are stored in a file, pandas can load them into a dataframe\n",
    "#load a comma separated file (CSV) into a dataframe\n",
    "import pandas as pd\n",
    "df = pd.read_csv('../Desktop/data.csv')\n",
    "print(df)"
   ]
  },
  {
   "cell_type": "markdown",
   "metadata": {},
   "source": [
    "### Read CSV Files"
   ]
  },
  {
   "cell_type": "code",
   "execution_count": null,
   "metadata": {},
   "outputs": [],
   "source": [
    "df = pd.read_csv('../Desktop/data.csv')\n",
    "print(df.to_string())\n",
    "# use to_string() to print the entire dataframe"
   ]
  },
  {
   "cell_type": "markdown",
   "metadata": {},
   "source": [
    "### Max_Rows"
   ]
  },
  {
   "cell_type": "code",
   "execution_count": null,
   "metadata": {},
   "outputs": [],
   "source": [
    "#the number of returned is defined in pandas option settings - you can check your system's max rows\n",
    "# with pd.options.display.max_rows statement\n",
    "import pandas as pd\n",
    "print(pd.options.display.max_rows)\n",
    "# you can change the max rows number with the same statement - increase the max number of rows to \n",
    "#display the entire dataframe\n",
    "pd.options.display.max_rows = 9999\n",
    "df = pd.read_csv('../Desktop/data.csv')\n",
    "print(df)"
   ]
  },
  {
   "cell_type": "markdown",
   "metadata": {},
   "source": [
    "### Read JSON"
   ]
  },
  {
   "cell_type": "code",
   "execution_count": null,
   "metadata": {},
   "outputs": [],
   "source": [
    "#JSON is plain text, but has the format of a object\n",
    "# load the JSON file into a dataframe\n",
    "import pandas as pd\n",
    "df = pd.read_json('../Desktop/data.json')\n",
    "print(df.to_string())"
   ]
  },
  {
   "cell_type": "markdown",
   "metadata": {},
   "source": [
    "### Dictionary as JSON"
   ]
  },
  {
   "cell_type": "code",
   "execution_count": null,
   "metadata": {},
   "outputs": [],
   "source": [
    "# JSON = python dictionary\n",
    "# JSON objects have the same format as python dictionaries\n",
    "# if your JSON code is not in a file, but in a python dictionary, you can load it into a\n",
    "# dataframe directly\n",
    "\n",
    "#load a python dictionary into a dataframe\n",
    "import pandas as pd\n",
    "\n",
    "data = {\n",
    "  \"Duration\":{\n",
    "    \"0\":60,\n",
    "    \"1\":60,\n",
    "    \"2\":60,\n",
    "    \"3\":45,\n",
    "    \"4\":45,\n",
    "    \"5\":60\n",
    "  },\n",
    "  \"Pulse\":{\n",
    "    \"0\":110,\n",
    "    \"1\":117,\n",
    "    \"2\":103,\n",
    "    \"3\":109,\n",
    "    \"4\":117,\n",
    "    \"5\":102\n",
    "  },\n",
    "  \"Maxpulse\":{\n",
    "    \"0\":130,\n",
    "    \"1\":145,\n",
    "    \"2\":135,\n",
    "    \"3\":175,\n",
    "    \"4\":148,\n",
    "    \"5\":127\n",
    "  },\n",
    "  \"Calories\":{\n",
    "    \"0\":409,\n",
    "    \"1\":479,\n",
    "    \"2\":340,\n",
    "    \"3\":282,\n",
    "    \"4\":406,\n",
    "    \"5\":300\n",
    "  }\n",
    "}\n",
    "\n",
    "df = pd.DataFrame(data)\n",
    "\n",
    "print(df)"
   ]
  },
  {
   "cell_type": "markdown",
   "metadata": {},
   "source": [
    "## Analyzing DataFrames\n",
    "### Viewing the Data"
   ]
  },
  {
   "cell_type": "code",
   "execution_count": 11,
   "metadata": {},
   "outputs": [
    {
     "name": "stdout",
     "output_type": "stream",
     "text": [
      "   Duration  Pulse  Maxpulse  Calories\n",
      "0        60    110       130     409.1\n",
      "1        60    117       145     479.0\n",
      "2        60    103       135     340.0\n",
      "3        45    109       175     282.4\n",
      "4        45    117       148     406.0\n",
      "5        60    102       127     300.0\n",
      "6        60    110       136     374.0\n",
      "7        45    104       134     253.3\n",
      "8        30    109       133     195.1\n",
      "9        60     98       124     269.0\n"
     ]
    }
   ],
   "source": [
    "# the 'head()' method returns the header and a specified number of rows from the top\n",
    "# print the first 10 rows of the dataframe\n",
    "import pandas as pd\n",
    "df = pd.read_csv('../Desktop/data.csv')\n",
    "\n",
    "print(df.head(10))"
   ]
  },
  {
   "cell_type": "code",
   "execution_count": 12,
   "metadata": {},
   "outputs": [
    {
     "name": "stdout",
     "output_type": "stream",
     "text": [
      "     Duration  Pulse  Maxpulse  Calories\n",
      "164        60    105       140     290.8\n",
      "165        60    110       145     300.0\n",
      "166        60    115       145     310.2\n",
      "167        75    120       150     320.4\n",
      "168        75    125       150     330.4\n"
     ]
    }
   ],
   "source": [
    "# the 'tail()' method returns returns the header and a specified number of rows from the bottom\n",
    "# print the last 5 rows of the dataframe\n",
    "print(df.tail(5))"
   ]
  },
  {
   "cell_type": "markdown",
   "metadata": {},
   "source": [
    "### Info About the Data"
   ]
  },
  {
   "cell_type": "code",
   "execution_count": 13,
   "metadata": {},
   "outputs": [
    {
     "name": "stdout",
     "output_type": "stream",
     "text": [
      "<class 'pandas.core.frame.DataFrame'>\n",
      "RangeIndex: 169 entries, 0 to 168\n",
      "Data columns (total 4 columns):\n",
      " #   Column    Non-Null Count  Dtype  \n",
      "---  ------    --------------  -----  \n",
      " 0   Duration  169 non-null    int64  \n",
      " 1   Pulse     169 non-null    int64  \n",
      " 2   Maxpulse  169 non-null    int64  \n",
      " 3   Calories  164 non-null    float64\n",
      "dtypes: float64(1), int64(3)\n",
      "memory usage: 5.4 KB\n",
      "None\n"
     ]
    }
   ],
   "source": [
    "# the dataframes object has a method called info() that gives you information about the data set\n",
    "# print info about the data\n",
    "print(df.info())\n",
    "\n",
    "# this displays there are 169 rows and 4 columns\n",
    "# and the name of each column with the data type\n",
    "# the info also tells us there are 5 Null values in the dataset"
   ]
  }
 ],
 "metadata": {
  "kernelspec": {
   "display_name": "dev_2",
   "language": "python",
   "name": "python3"
  },
  "language_info": {
   "codemirror_mode": {
    "name": "ipython",
    "version": 3
   },
   "file_extension": ".py",
   "mimetype": "text/x-python",
   "name": "python",
   "nbconvert_exporter": "python",
   "pygments_lexer": "ipython3",
   "version": "3.11.9"
  }
 },
 "nbformat": 4,
 "nbformat_minor": 2
}
