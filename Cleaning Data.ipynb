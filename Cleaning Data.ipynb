{
 "cells": [
  {
   "cell_type": "markdown",
   "metadata": {},
   "source": [
    "### Data Cleaning"
   ]
  },
  {
   "cell_type": "code",
   "execution_count": null,
   "metadata": {},
   "outputs": [],
   "source": [
    "# data cleaning means fixing bad data in your data set like:\n",
    "# empty cells, data in wrong format, wrong data, duplicates..."
   ]
  },
  {
   "cell_type": "markdown",
   "metadata": {},
   "source": [
    "### Empty Cells - Remove Rows"
   ]
  },
  {
   "cell_type": "code",
   "execution_count": null,
   "metadata": {},
   "outputs": [],
   "source": [
    "# one way to deal with empty cells is to remove rows that contain empty cells\n",
    "\n",
    "# return a new dataframe with no empty cells\n",
    "import pandas as pd\n",
    "\n",
    "# read in the csv file\n",
    "df = pd.read_csv('data.csv')\n",
    "# df.dropna() method returns a new dataframe, with no empty cells. this method\n",
    "# does not change the original dataframe\n",
    "new_df = df.dropna()\n",
    "\n",
    "print(new_df.to_string())\n",
    "\n",
    "# to change the original dataframe, use the inplace = True argument\n",
    "\n",
    "df = pd.read_csv('data.csv')\n",
    "df.dropna(inplace=True)\n",
    "\n",
    "print(df.to_string())\n",
    "\n",
    "# the dropna(inplace=True) will NOT return a new dataframe, it removes all rows\n",
    "# containing null values from the original dataframe"
   ]
  },
  {
   "cell_type": "markdown",
   "metadata": {},
   "source": [
    "### Replace Empty Values"
   ]
  },
  {
   "cell_type": "code",
   "execution_count": null,
   "metadata": {},
   "outputs": [],
   "source": [
    "# The fillna() method allows us to replace empty cells with a value\n",
    "\n",
    "# Replace Null values with the number 130\n",
    "import pandas as pd\n",
    "\n",
    "# read in csv file\n",
    "df = pd.read_csv('data.csv')\n",
    "\n",
    "#fill null values\n",
    "df.fillna(130, inplace=True)\n",
    "print(df.info())\n",
    "\n",
    "#now the data is consistent with 169 non null values per each column"
   ]
  },
  {
   "cell_type": "markdown",
   "metadata": {},
   "source": [
    "### Replace Only for Specified Columns"
   ]
  },
  {
   "cell_type": "code",
   "execution_count": null,
   "metadata": {},
   "outputs": [],
   "source": [
    "# the example above replaces all empty cells in the whole dataframe\n",
    "# to replace empty values for one column, specify the COLUMN NAME in the\n",
    "# data frame\n",
    "\n",
    "# replace null values in the CALORIES column with the number 130\n",
    "import pandas as pd\n",
    "\n",
    "# read in csv file\n",
    "df = pd.read_csv('data.csv')\n",
    "\n",
    "# fill null values in the calories column\n",
    "df.fillna({'Calories': 130}, inplace=True)\n",
    "\n",
    "print(df['Calories'])"
   ]
  },
  {
   "cell_type": "markdown",
   "metadata": {},
   "source": [
    "### Replace Using Mean, Median and Mode"
   ]
  },
  {
   "cell_type": "code",
   "execution_count": null,
   "metadata": {},
   "outputs": [],
   "source": [
    "# a common way to replace empty cells is to calculate the mean, median or mode\n",
    "# value of the column. \n",
    "\n",
    "# calculate the MEAN, and replace any empty values with it\n",
    "import pandas as pd\n",
    "\n",
    "#read in file\n",
    "df = pd.read_csv('data.csv')\n",
    "\n",
    "#calculate mean of the calories column\n",
    "x = df['Calories'].mean()\n",
    "\n",
    "#fill null values with the value of x\n",
    "df.fillna({'Calories':375.7}, inplace=True)\n",
    "\n",
    "print(df.to_string())"
   ]
  },
  {
   "cell_type": "code",
   "execution_count": null,
   "metadata": {},
   "outputs": [],
   "source": [
    "# calculate the MEDIAN and replace empty values with it\n",
    "import pandas as pd\n",
    "\n",
    "# read in file\n",
    "df = pd.read_csv('data.csv')\n",
    "\n",
    "#calculate the median\n",
    "y = df['Calories'].median()\n",
    "print(y)\n",
    "\n",
    "#fill null values with the value of y\n",
    "df.fillna({'Calories':318.6}, inplace=True)\n",
    "\n",
    "print(df.to_string())"
   ]
  },
  {
   "cell_type": "code",
   "execution_count": null,
   "metadata": {},
   "outputs": [],
   "source": [
    "# calculate the MODE and replace any empty values with it\n",
    "# the mode is the value that appears most frequently\n",
    "import pandas as pd\n",
    "\n",
    "#read in file\n",
    "df = pd.read_csv('data.csv')\n",
    "\n",
    "#calculate the mode\n",
    "z = df['Calories'].mode()[0]\n",
    "print(z)\n",
    "\n",
    "# fill null values with the value of z\n",
    "df.fillna({'Calories':300}, inplace=True)\n",
    "print(df.to_string())"
   ]
  }
 ],
 "metadata": {
  "kernelspec": {
   "display_name": "dev_2",
   "language": "python",
   "name": "python3"
  },
  "language_info": {
   "codemirror_mode": {
    "name": "ipython",
    "version": 3
   },
   "file_extension": ".py",
   "mimetype": "text/x-python",
   "name": "python",
   "nbconvert_exporter": "python",
   "pygments_lexer": "ipython3",
   "version": "3.11.9"
  }
 },
 "nbformat": 4,
 "nbformat_minor": 2
}
